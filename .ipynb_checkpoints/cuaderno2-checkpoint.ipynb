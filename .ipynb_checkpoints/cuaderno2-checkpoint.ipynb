{
 "cells": [
  {
   "cell_type": "code",
   "execution_count": 13,
   "id": "6f49d837-9d66-4262-b2b0-3e829b28de8e",
   "metadata": {},
   "outputs": [],
   "source": [
    "import pandas as pd\n",
    "import pygwalker as pyg"
   ]
  },
  {
   "cell_type": "code",
   "execution_count": 14,
   "id": "5d4765dc-8ffc-4fd9-90b6-483ee2e56910",
   "metadata": {},
   "outputs": [],
   "source": [
    "df = pd.read_csv('datos_personas.csv')"
   ]
  },
  {
   "cell_type": "code",
   "execution_count": 15,
   "id": "1dfe7d68-e40e-44cb-a362-66acd5b9e71d",
   "metadata": {},
   "outputs": [
    {
     "data": {
      "text/html": [
       "<div>\n",
       "<style scoped>\n",
       "    .dataframe tbody tr th:only-of-type {\n",
       "        vertical-align: middle;\n",
       "    }\n",
       "\n",
       "    .dataframe tbody tr th {\n",
       "        vertical-align: top;\n",
       "    }\n",
       "\n",
       "    .dataframe thead th {\n",
       "        text-align: right;\n",
       "    }\n",
       "</style>\n",
       "<table border=\"1\" class=\"dataframe\">\n",
       "  <thead>\n",
       "    <tr style=\"text-align: right;\">\n",
       "      <th></th>\n",
       "      <th>nombre</th>\n",
       "      <th>apellido</th>\n",
       "      <th>email</th>\n",
       "      <th>direccion</th>\n",
       "      <th>edad</th>\n",
       "      <th>provincia</th>\n",
       "    </tr>\n",
       "  </thead>\n",
       "  <tbody>\n",
       "    <tr>\n",
       "      <th>0</th>\n",
       "      <td>James Decker</td>\n",
       "      <td>Hernandez</td>\n",
       "      <td>dsilva@example.net</td>\n",
       "      <td>3535 Nguyen Trail Apt. 953, Port Andrewtown, N...</td>\n",
       "      <td>33</td>\n",
       "      <td>Loja</td>\n",
       "    </tr>\n",
       "    <tr>\n",
       "      <th>1</th>\n",
       "      <td>Brittany Pierce</td>\n",
       "      <td>Chang</td>\n",
       "      <td>dannyking@example.org</td>\n",
       "      <td>0228 Laura Circle Apt. 359, Natalieville, NJ 2...</td>\n",
       "      <td>33</td>\n",
       "      <td>Manabí</td>\n",
       "    </tr>\n",
       "    <tr>\n",
       "      <th>2</th>\n",
       "      <td>Frank Grant</td>\n",
       "      <td>Smith</td>\n",
       "      <td>bryanmedina@example.org</td>\n",
       "      <td>789 Nichols Harbor Suite 581, New Gail, OH 78552</td>\n",
       "      <td>39</td>\n",
       "      <td>Azuay</td>\n",
       "    </tr>\n",
       "    <tr>\n",
       "      <th>3</th>\n",
       "      <td>Samantha Thompson</td>\n",
       "      <td>Evans</td>\n",
       "      <td>rodriguezricky@example.com</td>\n",
       "      <td>37321 Theresa Villages, West William, NC 97018</td>\n",
       "      <td>37</td>\n",
       "      <td>Guayas</td>\n",
       "    </tr>\n",
       "    <tr>\n",
       "      <th>4</th>\n",
       "      <td>Jeremiah Peterson</td>\n",
       "      <td>Gill</td>\n",
       "      <td>rosesteven@example.com</td>\n",
       "      <td>137 Smith Tunnel, West Kenneth, VT 55107</td>\n",
       "      <td>35</td>\n",
       "      <td>Pichincha</td>\n",
       "    </tr>\n",
       "  </tbody>\n",
       "</table>\n",
       "</div>"
      ],
      "text/plain": [
       "              nombre   apellido                       email  \\\n",
       "0       James Decker  Hernandez          dsilva@example.net   \n",
       "1    Brittany Pierce      Chang       dannyking@example.org   \n",
       "2        Frank Grant      Smith     bryanmedina@example.org   \n",
       "3  Samantha Thompson      Evans  rodriguezricky@example.com   \n",
       "4  Jeremiah Peterson       Gill      rosesteven@example.com   \n",
       "\n",
       "                                           direccion  edad  provincia  \n",
       "0  3535 Nguyen Trail Apt. 953, Port Andrewtown, N...    33       Loja  \n",
       "1  0228 Laura Circle Apt. 359, Natalieville, NJ 2...    33     Manabí  \n",
       "2   789 Nichols Harbor Suite 581, New Gail, OH 78552    39      Azuay  \n",
       "3     37321 Theresa Villages, West William, NC 97018    37     Guayas  \n",
       "4           137 Smith Tunnel, West Kenneth, VT 55107    35  Pichincha  "
      ]
     },
     "execution_count": 15,
     "metadata": {},
     "output_type": "execute_result"
    }
   ],
   "source": [
    "df.head()"
   ]
  },
  {
   "cell_type": "code",
   "execution_count": null,
   "id": "a506c63b-4673-409a-b2e2-7554273f5599",
   "metadata": {},
   "outputs": [
    {
     "data": {
      "application/vnd.jupyter.widget-view+json": {
       "model_id": "7d690440ea3c4c7196049fb02ac084d1",
       "version_major": 2,
       "version_minor": 0
      },
      "text/plain": [
       "Box(children=(HTML(value='\\n<div id=\"ifr-pyg-000633a52c4390df5uW8ezywJ0mXaKLb\" style=\"height: auto\">\\n    <hea…"
      ]
     },
     "metadata": {},
     "output_type": "display_data"
    },
    {
     "data": {
      "text/html": [
       "<script>\n",
       "    window.addEventListener(\"message\", function(event) {\n",
       "        const backgroundMap = {\n",
       "            \"dark\": \"hsl(240 10% 3.9%)\",\n",
       "            \"light\": \"hsl(0 0 100%)\",\n",
       "        };\n",
       "        const colorMap = {\n",
       "            \"dark\": \"hsl(0 0% 98%)\",\n",
       "            \"light\": \"hsl(240 10% 3.9%)\",\n",
       "        };\n",
       "        if (event.data.action === \"changeAppearance\" && event.data.gid === \"000633a52c4390df5uW8ezywJ0mXaKLb\") {\n",
       "            var iframe = document.getElementById(\"gwalker-000633a52c4390df5uW8ezywJ0mXaKLb\");\n",
       "            iframe.style.background  = backgroundMap[event.data.appearance];\n",
       "            iframe.style.color = colorMap[event.data.appearance];\n",
       "        }\n",
       "    });\n",
       "</script>"
      ],
      "text/plain": [
       "<IPython.core.display.HTML object>"
      ]
     },
     "metadata": {},
     "output_type": "display_data"
    },
    {
     "data": {
      "text/html": [],
      "text/plain": [
       "<IPython.core.display.HTML object>"
      ]
     },
     "metadata": {},
     "output_type": "display_data"
    }
   ],
   "source": [
    "pyg.walk(df)"
   ]
  },
  {
   "cell_type": "code",
   "execution_count": null,
   "id": "694216b1-ef26-41b1-a803-c7951cfe0670",
   "metadata": {},
   "outputs": [],
   "source": []
  },
  {
   "cell_type": "code",
   "execution_count": null,
   "id": "e84e3df8-1583-448a-a365-fa8e29c4967c",
   "metadata": {},
   "outputs": [],
   "source": []
  }
 ],
 "metadata": {
  "kernelspec": {
   "display_name": "Python 3 (ipykernel)",
   "language": "python",
   "name": "python3"
  },
  "language_info": {
   "codemirror_mode": {
    "name": "ipython",
    "version": 3
   },
   "file_extension": ".py",
   "mimetype": "text/x-python",
   "name": "python",
   "nbconvert_exporter": "python",
   "pygments_lexer": "ipython3",
   "version": "3.12.1"
  }
 },
 "nbformat": 4,
 "nbformat_minor": 5
}
