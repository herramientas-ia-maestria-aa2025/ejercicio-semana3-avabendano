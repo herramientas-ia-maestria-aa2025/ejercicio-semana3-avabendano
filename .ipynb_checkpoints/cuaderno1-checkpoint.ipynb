{
 "cells": [
  {
   "cell_type": "code",
   "execution_count": 29,
   "id": "6f49d837-9d66-4262-b2b0-3e829b28de8e",
   "metadata": {},
   "outputs": [],
   "source": [
    "import pandas as pd"
   ]
  },
  {
   "cell_type": "code",
   "execution_count": null,
   "id": "5d4765dc-8ffc-4fd9-90b6-483ee2e56910",
   "metadata": {},
   "outputs": [],
   "source": []
  },
  {
   "cell_type": "code",
   "execution_count": 6,
   "id": "fbbfdbd8-307b-4101-8cd2-ba776acc7abe",
   "metadata": {},
   "outputs": [
    {
     "name": "stdout",
     "output_type": "stream",
     "text": [
      "Requirement already satisfied: pygwalker in /Users/Victoria/.pyenv/versions/3.12.1/lib/python3.12/site-packages (0.4.9.15)\n",
      "Requirement already satisfied: anywidget in /Users/Victoria/.pyenv/versions/3.12.1/lib/python3.12/site-packages (from pygwalker) (0.9.18)\n",
      "Requirement already satisfied: appdirs in /Users/Victoria/.pyenv/versions/3.12.1/lib/python3.12/site-packages (from pygwalker) (1.4.4)\n",
      "Requirement already satisfied: arrow in /Users/Victoria/.pyenv/versions/3.12.1/lib/python3.12/site-packages (from pygwalker) (1.3.0)\n",
      "Requirement already satisfied: astor in /Users/Victoria/.pyenv/versions/3.12.1/lib/python3.12/site-packages (from pygwalker) (0.8.1)\n",
      "Requirement already satisfied: cachetools in /Users/Victoria/.pyenv/versions/3.12.1/lib/python3.12/site-packages (from pygwalker) (5.3.3)\n",
      "Requirement already satisfied: duckdb<2.0.0,>=0.10.1 in /Users/Victoria/.pyenv/versions/3.12.1/lib/python3.12/site-packages (from pygwalker) (1.2.2)\n",
      "Requirement already satisfied: gw-dsl-parser==0.1.49.1 in /Users/Victoria/.pyenv/versions/3.12.1/lib/python3.12/site-packages (from pygwalker) (0.1.49.1)\n",
      "Requirement already satisfied: ipylab<=1.0.0 in /Users/Victoria/.pyenv/versions/3.12.1/lib/python3.12/site-packages (from pygwalker) (1.0.0)\n",
      "Requirement already satisfied: ipython in /Users/Victoria/.pyenv/versions/3.12.1/lib/python3.12/site-packages (from pygwalker) (9.1.0)\n",
      "Requirement already satisfied: ipywidgets in /Users/Victoria/.pyenv/versions/3.12.1/lib/python3.12/site-packages (from pygwalker) (8.1.6)\n",
      "Requirement already satisfied: jinja2 in /Users/Victoria/.pyenv/versions/3.12.1/lib/python3.12/site-packages (from pygwalker) (3.1.4)\n",
      "Requirement already satisfied: kanaries-track==0.0.5 in /Users/Victoria/.pyenv/versions/3.12.1/lib/python3.12/site-packages (from pygwalker) (0.0.5)\n",
      "Requirement already satisfied: numpy in /Users/Victoria/.pyenv/versions/3.12.1/lib/python3.12/site-packages (from pygwalker) (2.2.5)\n",
      "Requirement already satisfied: packaging in /Users/Victoria/.pyenv/versions/3.12.1/lib/python3.12/site-packages (from pygwalker) (24.0)\n",
      "Requirement already satisfied: pandas in /Users/Victoria/.pyenv/versions/3.12.1/lib/python3.12/site-packages (from pygwalker) (2.2.2)\n",
      "Requirement already satisfied: psutil in /Users/Victoria/.pyenv/versions/3.12.1/lib/python3.12/site-packages (from pygwalker) (5.9.8)\n",
      "Requirement already satisfied: pyarrow in /Users/Victoria/.pyenv/versions/3.12.1/lib/python3.12/site-packages (from pygwalker) (19.0.1)\n",
      "Requirement already satisfied: pydantic in /Users/Victoria/.pyenv/versions/3.12.1/lib/python3.12/site-packages (from pygwalker) (2.11.3)\n",
      "Requirement already satisfied: pytz in /Users/Victoria/.pyenv/versions/3.12.1/lib/python3.12/site-packages (from pygwalker) (2024.1)\n",
      "Requirement already satisfied: quickjs in /Users/Victoria/.pyenv/versions/3.12.1/lib/python3.12/site-packages (from pygwalker) (1.19.4)\n",
      "Requirement already satisfied: requests in /Users/Victoria/.pyenv/versions/3.12.1/lib/python3.12/site-packages (from pygwalker) (2.31.0)\n",
      "Requirement already satisfied: segment-analytics-python==2.2.3 in /Users/Victoria/.pyenv/versions/3.12.1/lib/python3.12/site-packages (from pygwalker) (2.2.3)\n",
      "Requirement already satisfied: sqlalchemy in /Users/Victoria/.pyenv/versions/3.12.1/lib/python3.12/site-packages (from pygwalker) (2.0.40)\n",
      "Requirement already satisfied: sqlglot>=23.15.8 in /Users/Victoria/.pyenv/versions/3.12.1/lib/python3.12/site-packages (from pygwalker) (26.16.2)\n",
      "Requirement already satisfied: traitlets in /Users/Victoria/.pyenv/versions/3.12.1/lib/python3.12/site-packages (from pygwalker) (5.14.3)\n",
      "Requirement already satisfied: typing-extensions in /Users/Victoria/.pyenv/versions/3.12.1/lib/python3.12/site-packages (from pygwalker) (4.13.2)\n",
      "Requirement already satisfied: wasmtime>=12.0.0 in /Users/Victoria/.pyenv/versions/3.12.1/lib/python3.12/site-packages (from gw-dsl-parser==0.1.49.1->pygwalker) (32.0.0)\n",
      "Requirement already satisfied: backoff>=2.2.1 in /Users/Victoria/.pyenv/versions/3.12.1/lib/python3.12/site-packages (from kanaries-track==0.0.5->pygwalker) (2.2.1)\n",
      "Requirement already satisfied: dateutils>=0.6.12 in /Users/Victoria/.pyenv/versions/3.12.1/lib/python3.12/site-packages (from kanaries-track==0.0.5->pygwalker) (0.6.12)\n",
      "Requirement already satisfied: monotonic~=1.5 in /Users/Victoria/.pyenv/versions/3.12.1/lib/python3.12/site-packages (from segment-analytics-python==2.2.3->pygwalker) (1.6)\n",
      "Requirement already satisfied: python-dateutil~=2.2 in /Users/Victoria/.pyenv/versions/3.12.1/lib/python3.12/site-packages (from segment-analytics-python==2.2.3->pygwalker) (2.9.0.post0)\n",
      "Requirement already satisfied: comm>=0.1.3 in /Users/Victoria/.pyenv/versions/3.12.1/lib/python3.12/site-packages (from ipywidgets->pygwalker) (0.2.2)\n",
      "Requirement already satisfied: widgetsnbextension~=4.0.14 in /Users/Victoria/.pyenv/versions/3.12.1/lib/python3.12/site-packages (from ipywidgets->pygwalker) (4.0.14)\n",
      "Requirement already satisfied: jupyterlab_widgets~=3.0.14 in /Users/Victoria/.pyenv/versions/3.12.1/lib/python3.12/site-packages (from ipywidgets->pygwalker) (3.0.14)\n",
      "Requirement already satisfied: decorator in /Users/Victoria/.pyenv/versions/3.12.1/lib/python3.12/site-packages (from ipython->pygwalker) (5.2.1)\n",
      "Requirement already satisfied: ipython-pygments-lexers in /Users/Victoria/.pyenv/versions/3.12.1/lib/python3.12/site-packages (from ipython->pygwalker) (1.1.1)\n",
      "Requirement already satisfied: jedi>=0.16 in /Users/Victoria/.pyenv/versions/3.12.1/lib/python3.12/site-packages (from ipython->pygwalker) (0.19.2)\n",
      "Requirement already satisfied: matplotlib-inline in /Users/Victoria/.pyenv/versions/3.12.1/lib/python3.12/site-packages (from ipython->pygwalker) (0.1.7)\n",
      "Requirement already satisfied: pexpect>4.3 in /Users/Victoria/.pyenv/versions/3.12.1/lib/python3.12/site-packages (from ipython->pygwalker) (4.9.0)\n",
      "Requirement already satisfied: prompt_toolkit<3.1.0,>=3.0.41 in /Users/Victoria/.pyenv/versions/3.12.1/lib/python3.12/site-packages (from ipython->pygwalker) (3.0.50)\n",
      "Requirement already satisfied: pygments>=2.4.0 in /Users/Victoria/.pyenv/versions/3.12.1/lib/python3.12/site-packages (from ipython->pygwalker) (2.19.1)\n",
      "Requirement already satisfied: stack_data in /Users/Victoria/.pyenv/versions/3.12.1/lib/python3.12/site-packages (from ipython->pygwalker) (0.6.3)\n",
      "Requirement already satisfied: charset-normalizer<4,>=2 in /Users/Victoria/.pyenv/versions/3.12.1/lib/python3.12/site-packages (from requests->pygwalker) (3.3.2)\n",
      "Requirement already satisfied: idna<4,>=2.5 in /Users/Victoria/.pyenv/versions/3.12.1/lib/python3.12/site-packages (from requests->pygwalker) (3.7)\n",
      "Requirement already satisfied: urllib3<3,>=1.21.1 in /Users/Victoria/.pyenv/versions/3.12.1/lib/python3.12/site-packages (from requests->pygwalker) (2.2.1)\n",
      "Requirement already satisfied: certifi>=2017.4.17 in /Users/Victoria/.pyenv/versions/3.12.1/lib/python3.12/site-packages (from requests->pygwalker) (2024.2.2)\n",
      "Requirement already satisfied: psygnal>=0.8.1 in /Users/Victoria/.pyenv/versions/3.12.1/lib/python3.12/site-packages (from anywidget->pygwalker) (0.12.0)\n",
      "Requirement already satisfied: types-python-dateutil>=2.8.10 in /Users/Victoria/.pyenv/versions/3.12.1/lib/python3.12/site-packages (from arrow->pygwalker) (2.9.0.20241206)\n",
      "Requirement already satisfied: MarkupSafe>=2.0 in /Users/Victoria/.pyenv/versions/3.12.1/lib/python3.12/site-packages (from jinja2->pygwalker) (2.1.5)\n",
      "Requirement already satisfied: tzdata>=2022.7 in /Users/Victoria/.pyenv/versions/3.12.1/lib/python3.12/site-packages (from pandas->pygwalker) (2024.1)\n",
      "Requirement already satisfied: annotated-types>=0.6.0 in /Users/Victoria/.pyenv/versions/3.12.1/lib/python3.12/site-packages (from pydantic->pygwalker) (0.7.0)\n",
      "Requirement already satisfied: pydantic-core==2.33.1 in /Users/Victoria/.pyenv/versions/3.12.1/lib/python3.12/site-packages (from pydantic->pygwalker) (2.33.1)\n",
      "Requirement already satisfied: typing-inspection>=0.4.0 in /Users/Victoria/.pyenv/versions/3.12.1/lib/python3.12/site-packages (from pydantic->pygwalker) (0.4.0)\n",
      "Requirement already satisfied: greenlet>=1 in /Users/Victoria/.pyenv/versions/3.12.1/lib/python3.12/site-packages (from sqlalchemy->pygwalker) (3.2.1)\n",
      "Requirement already satisfied: parso<0.9.0,>=0.8.4 in /Users/Victoria/.pyenv/versions/3.12.1/lib/python3.12/site-packages (from jedi>=0.16->ipython->pygwalker) (0.8.4)\n",
      "Requirement already satisfied: ptyprocess>=0.5 in /Users/Victoria/.pyenv/versions/3.12.1/lib/python3.12/site-packages (from pexpect>4.3->ipython->pygwalker) (0.7.0)\n",
      "Requirement already satisfied: wcwidth in /Users/Victoria/.pyenv/versions/3.12.1/lib/python3.12/site-packages (from prompt_toolkit<3.1.0,>=3.0.41->ipython->pygwalker) (0.2.13)\n",
      "Requirement already satisfied: six>=1.5 in /Users/Victoria/.pyenv/versions/3.12.1/lib/python3.12/site-packages (from python-dateutil~=2.2->segment-analytics-python==2.2.3->pygwalker) (1.16.0)\n",
      "Requirement already satisfied: importlib_resources>=5.10 in /Users/Victoria/.pyenv/versions/3.12.1/lib/python3.12/site-packages (from wasmtime>=12.0.0->gw-dsl-parser==0.1.49.1->pygwalker) (6.5.2)\n",
      "Requirement already satisfied: executing>=1.2.0 in /Users/Victoria/.pyenv/versions/3.12.1/lib/python3.12/site-packages (from stack_data->ipython->pygwalker) (2.2.0)\n",
      "Requirement already satisfied: asttokens>=2.1.0 in /Users/Victoria/.pyenv/versions/3.12.1/lib/python3.12/site-packages (from stack_data->ipython->pygwalker) (3.0.0)\n",
      "Requirement already satisfied: pure-eval in /Users/Victoria/.pyenv/versions/3.12.1/lib/python3.12/site-packages (from stack_data->ipython->pygwalker) (0.2.3)\n",
      "\n",
      "\u001b[1m[\u001b[0m\u001b[34;49mnotice\u001b[0m\u001b[1;39;49m]\u001b[0m\u001b[39;49m A new release of pip is available: \u001b[0m\u001b[31;49m23.2.1\u001b[0m\u001b[39;49m -> \u001b[0m\u001b[32;49m25.0.1\u001b[0m\n",
      "\u001b[1m[\u001b[0m\u001b[34;49mnotice\u001b[0m\u001b[1;39;49m]\u001b[0m\u001b[39;49m To update, run: \u001b[0m\u001b[32;49mpip install --upgrade pip\u001b[0m\n",
      "Requirement already satisfied: Faker in /Users/Victoria/.pyenv/versions/3.12.1/lib/python3.12/site-packages (37.1.0)\n",
      "Requirement already satisfied: tzdata in /Users/Victoria/.pyenv/versions/3.12.1/lib/python3.12/site-packages (from Faker) (2024.1)\n",
      "\n",
      "\u001b[1m[\u001b[0m\u001b[34;49mnotice\u001b[0m\u001b[1;39;49m]\u001b[0m\u001b[39;49m A new release of pip is available: \u001b[0m\u001b[31;49m23.2.1\u001b[0m\u001b[39;49m -> \u001b[0m\u001b[32;49m25.0.1\u001b[0m\n",
      "\u001b[1m[\u001b[0m\u001b[34;49mnotice\u001b[0m\u001b[1;39;49m]\u001b[0m\u001b[39;49m To update, run: \u001b[0m\u001b[32;49mpip install --upgrade pip\u001b[0m\n"
     ]
    }
   ],
   "source": [
    "!pip install pygwalker\n",
    "!pip install Faker\n",
    "# si se sigue este proceso, deberá reiniciar el jupyter-lab"
   ]
  },
  {
   "cell_type": "code",
   "execution_count": 53,
   "id": "1dfe7d68-e40e-44cb-a362-66acd5b9e71d",
   "metadata": {},
   "outputs": [],
   "source": [
    "from faker import Faker\n",
    "import pandas as pd\n",
    "import random"
   ]
  },
  {
   "cell_type": "code",
   "execution_count": 54,
   "id": "a506c63b-4673-409a-b2e2-7554273f5599",
   "metadata": {},
   "outputs": [],
   "source": [
    "fake = Faker()"
   ]
  },
  {
   "cell_type": "code",
   "execution_count": 55,
   "id": "af44afa5-268c-44e7-b4e3-9d7488259453",
   "metadata": {},
   "outputs": [],
   "source": [
    "data = []"
   ]
  },
  {
   "cell_type": "code",
   "execution_count": 59,
   "id": "665532b4-afc9-486e-82a0-af80a2bfacd4",
   "metadata": {},
   "outputs": [],
   "source": [
    "for _ in range(10000):\n",
    "    record = {\n",
    "    'nombre': fake.name(),\n",
    "    'apellido': fake.last_name(),\n",
    "    'email': fake.email(),\n",
    "    'direccion': fake.address() . replace('\\n', ', '),\n",
    "    'edad': random.randint(30, 40),\n",
    "    'provincia': random.choice(['Loja','Pichincha','Guayas', 'Azuay', 'Manabí'])\n",
    "    }\n",
    "    data.append(record)"
   ]
  },
  {
   "cell_type": "code",
   "execution_count": 60,
   "id": "b7206036-de82-4471-ad51-c4d875622529",
   "metadata": {},
   "outputs": [],
   "source": [
    "df = pd.DataFrame(data)"
   ]
  },
  {
   "cell_type": "code",
   "execution_count": 61,
   "id": "66d83eed-25d2-4e45-ad73-b52f3f627de5",
   "metadata": {},
   "outputs": [],
   "source": [
    "df.to_csv('datos_personas.csv', index=False)"
   ]
  },
  {
   "cell_type": "code",
   "execution_count": 62,
   "id": "317ce43f-25d7-48dd-a11f-484004a8db82",
   "metadata": {},
   "outputs": [
    {
     "data": {
      "text/html": [
       "<div>\n",
       "<style scoped>\n",
       "    .dataframe tbody tr th:only-of-type {\n",
       "        vertical-align: middle;\n",
       "    }\n",
       "\n",
       "    .dataframe tbody tr th {\n",
       "        vertical-align: top;\n",
       "    }\n",
       "\n",
       "    .dataframe thead th {\n",
       "        text-align: right;\n",
       "    }\n",
       "</style>\n",
       "<table border=\"1\" class=\"dataframe\">\n",
       "  <thead>\n",
       "    <tr style=\"text-align: right;\">\n",
       "      <th></th>\n",
       "      <th>nombre</th>\n",
       "      <th>apellido</th>\n",
       "      <th>email</th>\n",
       "      <th>direccion</th>\n",
       "      <th>edad</th>\n",
       "      <th>provincia</th>\n",
       "    </tr>\n",
       "  </thead>\n",
       "  <tbody>\n",
       "    <tr>\n",
       "      <th>0</th>\n",
       "      <td>James Decker</td>\n",
       "      <td>Hernandez</td>\n",
       "      <td>dsilva@example.net</td>\n",
       "      <td>3535 Nguyen Trail Apt. 953, Port Andrewtown, N...</td>\n",
       "      <td>33</td>\n",
       "      <td>Loja</td>\n",
       "    </tr>\n",
       "    <tr>\n",
       "      <th>1</th>\n",
       "      <td>Brittany Pierce</td>\n",
       "      <td>Chang</td>\n",
       "      <td>dannyking@example.org</td>\n",
       "      <td>0228 Laura Circle Apt. 359, Natalieville, NJ 2...</td>\n",
       "      <td>33</td>\n",
       "      <td>Manabí</td>\n",
       "    </tr>\n",
       "    <tr>\n",
       "      <th>2</th>\n",
       "      <td>Frank Grant</td>\n",
       "      <td>Smith</td>\n",
       "      <td>bryanmedina@example.org</td>\n",
       "      <td>789 Nichols Harbor Suite 581, New Gail, OH 78552</td>\n",
       "      <td>39</td>\n",
       "      <td>Azuay</td>\n",
       "    </tr>\n",
       "    <tr>\n",
       "      <th>3</th>\n",
       "      <td>Samantha Thompson</td>\n",
       "      <td>Evans</td>\n",
       "      <td>rodriguezricky@example.com</td>\n",
       "      <td>37321 Theresa Villages, West William, NC 97018</td>\n",
       "      <td>37</td>\n",
       "      <td>Guayas</td>\n",
       "    </tr>\n",
       "    <tr>\n",
       "      <th>4</th>\n",
       "      <td>Jeremiah Peterson</td>\n",
       "      <td>Gill</td>\n",
       "      <td>rosesteven@example.com</td>\n",
       "      <td>137 Smith Tunnel, West Kenneth, VT 55107</td>\n",
       "      <td>35</td>\n",
       "      <td>Pichincha</td>\n",
       "    </tr>\n",
       "  </tbody>\n",
       "</table>\n",
       "</div>"
      ],
      "text/plain": [
       "              nombre   apellido                       email  \\\n",
       "0       James Decker  Hernandez          dsilva@example.net   \n",
       "1    Brittany Pierce      Chang       dannyking@example.org   \n",
       "2        Frank Grant      Smith     bryanmedina@example.org   \n",
       "3  Samantha Thompson      Evans  rodriguezricky@example.com   \n",
       "4  Jeremiah Peterson       Gill      rosesteven@example.com   \n",
       "\n",
       "                                           direccion  edad  provincia  \n",
       "0  3535 Nguyen Trail Apt. 953, Port Andrewtown, N...    33       Loja  \n",
       "1  0228 Laura Circle Apt. 359, Natalieville, NJ 2...    33     Manabí  \n",
       "2   789 Nichols Harbor Suite 581, New Gail, OH 78552    39      Azuay  \n",
       "3     37321 Theresa Villages, West William, NC 97018    37     Guayas  \n",
       "4           137 Smith Tunnel, West Kenneth, VT 55107    35  Pichincha  "
      ]
     },
     "execution_count": 62,
     "metadata": {},
     "output_type": "execute_result"
    }
   ],
   "source": [
    "df.head()\n"
   ]
  },
  {
   "cell_type": "code",
   "execution_count": null,
   "id": "694216b1-ef26-41b1-a803-c7951cfe0670",
   "metadata": {},
   "outputs": [],
   "source": []
  },
  {
   "cell_type": "code",
   "execution_count": null,
   "id": "e84e3df8-1583-448a-a365-fa8e29c4967c",
   "metadata": {},
   "outputs": [],
   "source": []
  }
 ],
 "metadata": {
  "kernelspec": {
   "display_name": "Python 3 (ipykernel)",
   "language": "python",
   "name": "python3"
  },
  "language_info": {
   "codemirror_mode": {
    "name": "ipython",
    "version": 3
   },
   "file_extension": ".py",
   "mimetype": "text/x-python",
   "name": "python",
   "nbconvert_exporter": "python",
   "pygments_lexer": "ipython3",
   "version": "3.12.1"
  }
 },
 "nbformat": 4,
 "nbformat_minor": 5
}
